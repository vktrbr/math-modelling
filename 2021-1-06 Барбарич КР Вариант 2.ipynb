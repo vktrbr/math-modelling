{
 "cells": [
  {
   "cell_type": "markdown",
   "source": [
    "### Вариант 2"
   ],
   "metadata": {
    "collapsed": false,
    "pycharm": {
     "name": "#%% md\n"
    }
   }
  },
  {
   "cell_type": "code",
   "execution_count": 67,
   "outputs": [],
   "source": [
    "import sympy as sp"
   ],
   "metadata": {
    "collapsed": false,
    "pycharm": {
     "name": "#%%\n"
    }
   }
  },
  {
   "cell_type": "markdown",
   "source": [
    "## Задание 1"
   ],
   "metadata": {
    "collapsed": false,
    "pycharm": {
     "name": "#%% md\n"
    }
   }
  },
  {
   "cell_type": "code",
   "execution_count": 68,
   "outputs": [
    {
     "data": {
      "text/plain": "y**(1/3)*exp(-4*pi)",
      "text/latex": "$\\displaystyle \\sqrt[3]{y} e^{- 4 \\pi}$"
     },
     "execution_count": 68,
     "metadata": {},
     "output_type": "execute_result"
    }
   ],
   "source": [
    "g = 0.06  #  темп экономического роста y'/y\n",
    "\n",
    "y, p = sp.symbols('y, pi')\n",
    "# y - ввп на душу населения, реальный доход индивида\n",
    "# p - ожидаемый темп инфляции\n",
    "\n",
    "# (M / P)^d = f - функция спроса на реальные запасы денежных средств\n",
    "\n",
    "f = y ** sp.Rational(1, 3) * sp.exp(-4 * p)\n",
    "f"
   ],
   "metadata": {
    "collapsed": false,
    "pycharm": {
     "name": "#%%\n"
    }
   }
  },
  {
   "cell_type": "code",
   "execution_count": 69,
   "outputs": [
    {
     "data": {
      "text/plain": "1/3",
      "text/latex": "$\\displaystyle \\frac{1}{3}$"
     },
     "execution_count": 69,
     "metadata": {},
     "output_type": "execute_result"
    }
   ],
   "source": [
    "# Вычислим коэффициент спроса на реальные деньги по доходу индивида\n",
    "# y / f * df / dy\n",
    "Efy = y / f * f.diff(y)\n",
    "Efy"
   ],
   "metadata": {
    "collapsed": false,
    "pycharm": {
     "name": "#%%\n"
    }
   }
  },
  {
   "cell_type": "code",
   "execution_count": 70,
   "outputs": [
    {
     "name": "stdout",
     "output_type": "stream",
     "text": [
      "Оптимальный темп инфляции с точки зрения извлечения реального сеньоража от денежной эмиссии равен 23%\n"
     ]
    }
   ],
   "source": [
    "# Воспользуемся условием для оптимального темпа инфляции:\n",
    "# (n + pi + Efy * g) df / dpi * 1 / f = - 1\n",
    "# Примем, что n - темп прироста экономически активного населения равен 0\n",
    "\n",
    "# Найдем pi удовлетворяющий условию выше\n",
    "pi_opt = sp.solve((0 + p + Efy * g) * f.diff(p) / f + 1, p)[0]\n",
    "print(f'Оптимальный темп инфляции с точки зрения извлечения реального '\n",
    "      f'сеньоража от денежной эмиссии равен {pi_opt:.0%}')"
   ],
   "metadata": {
    "collapsed": false,
    "pycharm": {
     "name": "#%%\n"
    }
   }
  },
  {
   "cell_type": "code",
   "execution_count": 71,
   "outputs": [
    {
     "data": {
      "text/plain": "0.00183318758898876*y**(1/3)",
      "text/latex": "$\\displaystyle 0.00183318758898876 \\sqrt[3]{y}$"
     },
     "execution_count": 71,
     "metadata": {},
     "output_type": "execute_result"
    }
   ],
   "source": [
    "# Максимально возможная величина реального сеньоража в этой стране\n",
    "# в расчете на одного работника\n",
    "\n",
    "# Для подсчета обозначим целевую функцию RS - величина реального сеньоража на душу населения\n",
    "# RS = l * f * (n + pi + Efy * g + Efpi * eta)\n",
    "# Цель: RS -> max_pi\n",
    "\n",
    "# Предположим, что etha = 0\n",
    "# т.к. оптимальный темп инфляции не изменяется в краткосрочном периоде времени\n",
    "# L = 1, n = 0\n",
    "# Тогда функция принимает вид: RS = f * (pi + Efy * g)\n",
    "\n",
    "# Подставим оптимальный уровень инфляции с точки зрения реального сеньоража для максимизации RS\n",
    "RS = f.subs({p: pi_opt}) * (pi_opt * Efy * g)\n",
    "RS"
   ],
   "metadata": {
    "collapsed": false,
    "pycharm": {
     "name": "#%%\n"
    }
   }
  },
  {
   "cell_type": "code",
   "execution_count": 72,
   "outputs": [
    {
     "name": "stdout",
     "output_type": "stream",
     "text": [
      "Максимально возможная величина реального сеньоража в этой стране:\n"
     ]
    },
    {
     "data": {
      "text/plain": "0.0018*y**0.33",
      "text/latex": "$\\displaystyle 0.0018 y^{0.33}$"
     },
     "execution_count": 72,
     "metadata": {},
     "output_type": "execute_result"
    }
   ],
   "source": [
    "print('Максимально возможная величина реального сеньоража в этой стране:')\n",
    "sp.N(RS, 2)"
   ],
   "metadata": {
    "collapsed": false,
    "pycharm": {
     "name": "#%%\n"
    }
   }
  },
  {
   "cell_type": "markdown",
   "source": [
    "## Задание 2"
   ],
   "metadata": {
    "collapsed": false,
    "pycharm": {
     "name": "#%% md\n"
    }
   }
  },
  {
   "cell_type": "code",
   "execution_count": 73,
   "outputs": [],
   "source": [
    "# Запишем уравнения модели\n",
    "Y, T, r, e = sp.symbols('Y, T, r, e')\n",
    "\n",
    "# r - мировая процентная ставка\n",
    "# e - номинальный обменный курс\n",
    "\n",
    "C = 0.63 * (Y - T)\n",
    "I = 1721 - 34 * r\n",
    "NX = 35 - 42 * e\n",
    "Mt = 0.34 * Y - 71 * r"
   ],
   "metadata": {
    "collapsed": false,
    "pycharm": {
     "name": "#%%\n"
    }
   }
  },
  {
   "cell_type": "code",
   "execution_count": 74,
   "outputs": [
    {
     "data": {
      "text/plain": "-113.513513513514*e - 91.8918918918919*r + 10227.2972972973",
      "text/latex": "$\\displaystyle - 113.513513513514 e - 91.8918918918919 r + 10227.2972972973$"
     },
     "execution_count": 74,
     "metadata": {},
     "output_type": "execute_result"
    }
   ],
   "source": [
    "# Создадим модель IS. Выразив Y из уравнения ниже\n",
    "# Y = C(Y - T) + I(r) + G + NX(e)\n",
    "# Вместо G сразу подставим 2425, T с помощью subs подставим\n",
    "Y_IS = sp.solve(C + I + 2425 + NX - Y, Y)[0].subs({T: 630})\n",
    "Y_IS"
   ],
   "metadata": {
    "collapsed": false,
    "pycharm": {
     "name": "#%%\n"
    }
   }
  },
  {
   "cell_type": "code",
   "execution_count": 75,
   "outputs": [
    {
     "data": {
      "text/plain": "208.823529411765*r + 10147.0588235294",
      "text/latex": "$\\displaystyle 208.823529411765 r + 10147.0588235294$"
     },
     "execution_count": 75,
     "metadata": {},
     "output_type": "execute_result"
    }
   ],
   "source": [
    "# Создадим модель LM\n",
    "# Выразив Y из M = L(r, Y)\n",
    "\n",
    "M = sp.symbols('M')\n",
    "\n",
    "Y_LM = sp.solve(M - Mt, Y)[0].subs({M: 3450})\n",
    "Y_start = Y_LM\n",
    "Y_LM"
   ],
   "metadata": {
    "collapsed": false,
    "pycharm": {
     "name": "#%%\n"
    }
   }
  },
  {
   "cell_type": "code",
   "execution_count": 76,
   "outputs": [
    {
     "data": {
      "text/plain": "0.266825270948977 - 0.377478191911183*e",
      "text/latex": "$\\displaystyle 0.266825270948977 - 0.377478191911183 e$"
     },
     "execution_count": 76,
     "metadata": {},
     "output_type": "execute_result"
    }
   ],
   "source": [
    "r_opt = sp.solve(Y_IS - Y_LM, r)[0]\n",
    "r_opt"
   ],
   "metadata": {
    "collapsed": false,
    "pycharm": {
     "name": "#%%\n"
    }
   }
  },
  {
   "cell_type": "code",
   "execution_count": 77,
   "outputs": [
    {
     "data": {
      "text/plain": "0.706862745098023 - 2.64915966386554*r",
      "text/latex": "$\\displaystyle 0.706862745098023 - 2.64915966386554 r$"
     },
     "execution_count": 77,
     "metadata": {},
     "output_type": "execute_result"
    }
   ],
   "source": [
    "e_opt = sp.solve(Y_IS - Y_LM, e)[0]\n",
    "e_opt"
   ],
   "metadata": {
    "collapsed": false,
    "pycharm": {
     "name": "#%%\n"
    }
   }
  },
  {
   "cell_type": "code",
   "execution_count": 78,
   "outputs": [
    {
     "name": "stdout",
     "output_type": "stream",
     "text": [
      "Первоначальное равновесие возможно при ставке:\n"
     ]
    },
    {
     "data": {
      "text/plain": "0.267 - 0.378*e",
      "text/latex": "$\\displaystyle 0.267 - 0.378 e$"
     },
     "execution_count": 78,
     "metadata": {},
     "output_type": "execute_result"
    }
   ],
   "source": [
    "print('Первоначальное равновесие возможно при ставке:')\n",
    "sp.N(r_opt, 3)"
   ],
   "metadata": {
    "collapsed": false,
    "pycharm": {
     "name": "#%%\n"
    }
   }
  },
  {
   "cell_type": "code",
   "execution_count": 79,
   "outputs": [
    {
     "data": {
      "text/plain": "0.447759103641436 - 2.64915966386554*r",
      "text/latex": "$\\displaystyle 0.447759103641436 - 2.64915966386554 r$"
     },
     "execution_count": 79,
     "metadata": {},
     "output_type": "execute_result"
    }
   ],
   "source": [
    "# Правительство планирует понизить предложение денег в экономике =>\n",
    "# delta_M = -10\n",
    "# G и T - не меняются => delta_G = delta_T = 0\n",
    "\n",
    "# Создадим опять IS, LM модели\n",
    "Y_IS = Y_IS  # - не меняется, поскольку проводимая политика касается только M\n",
    "Y_LM = sp.solve(M - Mt, Y)[0].subs({M: 3450 + 10})  # Повышаем предложение денег\n",
    "\n",
    "e_new_opt = sp.solve(Y_IS - Y_LM, e)[0]\n",
    "e_new_opt"
   ],
   "metadata": {
    "collapsed": false,
    "pycharm": {
     "name": "#%%\n"
    }
   }
  },
  {
   "cell_type": "code",
   "execution_count": 83,
   "outputs": [
    {
     "data": {
      "text/plain": "29.4117647058829 - 8.5265128291212e-13*r",
      "text/latex": "$\\displaystyle 29.4117647058829 - 8.5265128291212 \\cdot 10^{-13} r$"
     },
     "execution_count": 83,
     "metadata": {},
     "output_type": "execute_result"
    }
   ],
   "source": [
    "Y_new = Y_IS.subs({e: e_new_opt})\n",
    "\n",
    "Y_new - Y_start  # Изменение ВВП. Множитель перед r ~ 0 - машинный ноль"
   ],
   "metadata": {
    "collapsed": false,
    "pycharm": {
     "name": "#%%\n"
    }
   }
  },
  {
   "cell_type": "code",
   "execution_count": 84,
   "outputs": [
    {
     "name": "stdout",
     "output_type": "stream",
     "text": [
      "ВВП повысился на 29.41\n"
     ]
    }
   ],
   "source": [
    "print('ВВП повысился на 29.41')"
   ],
   "metadata": {
    "collapsed": false,
    "pycharm": {
     "name": "#%%\n"
    }
   }
  },
  {
   "cell_type": "code",
   "execution_count": 87,
   "outputs": [
    {
     "data": {
      "text/plain": "-0.259103641456586",
      "text/latex": "$\\displaystyle -0.259103641456586$"
     },
     "execution_count": 87,
     "metadata": {},
     "output_type": "execute_result"
    }
   ],
   "source": [
    "e_new_opt - e_opt"
   ],
   "metadata": {
    "collapsed": false,
    "pycharm": {
     "name": "#%%\n"
    }
   }
  },
  {
   "cell_type": "code",
   "execution_count": 88,
   "outputs": [
    {
     "name": "stdout",
     "output_type": "stream",
     "text": [
      "Валютный курс понизился на 0.259\n"
     ]
    }
   ],
   "source": [
    "print(f'Валютный курс понизился на {abs(e_new_opt - e_opt):0.3f}')"
   ],
   "metadata": {
    "collapsed": false,
    "pycharm": {
     "name": "#%%\n"
    }
   }
  },
  {
   "cell_type": "code",
   "execution_count": 93,
   "outputs": [
    {
     "data": {
      "text/plain": "0.169 - 0.378*e",
      "text/latex": "$\\displaystyle 0.169 - 0.378 e$"
     },
     "execution_count": 93,
     "metadata": {},
     "output_type": "execute_result"
    }
   ],
   "source": [
    "sp.N(sp.solve(Y_IS - Y_LM, r)[0], 3)"
   ],
   "metadata": {
    "collapsed": false,
    "pycharm": {
     "name": "#%%\n"
    }
   }
  },
  {
   "cell_type": "code",
   "execution_count": 97,
   "outputs": [
    {
     "data": {
      "text/plain": "208.823529411764*r + 10176.4705882353",
      "text/latex": "$\\displaystyle 208.823529411764 r + 10176.4705882353$"
     },
     "execution_count": 97,
     "metadata": {},
     "output_type": "execute_result"
    }
   ],
   "source": [
    "sp.N(Y_new)"
   ],
   "metadata": {
    "collapsed": false,
    "pycharm": {
     "name": "#%%\n"
    }
   }
  },
  {
   "cell_type": "code",
   "execution_count": 98,
   "outputs": [],
   "source": [
    "# Новое равновесие достигается при\n",
    "# e = 0.448 - 2.65 * r\n",
    "# r = 0.169 - 0.378 * e\n",
    "# Y = 10176.5 + 208.82 * r"
   ],
   "metadata": {
    "collapsed": false,
    "pycharm": {
     "name": "#%%\n"
    }
   }
  }
 ],
 "metadata": {
  "kernelspec": {
   "display_name": "Python 3",
   "language": "python",
   "name": "python3"
  },
  "language_info": {
   "codemirror_mode": {
    "name": "ipython",
    "version": 2
   },
   "file_extension": ".py",
   "mimetype": "text/x-python",
   "name": "python",
   "nbconvert_exporter": "python",
   "pygments_lexer": "ipython2",
   "version": "2.7.6"
  }
 },
 "nbformat": 4,
 "nbformat_minor": 0
}
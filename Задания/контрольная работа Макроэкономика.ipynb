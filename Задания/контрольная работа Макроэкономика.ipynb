{
 "cells": [
  {
   "cell_type": "code",
   "execution_count": 53,
   "outputs": [],
   "source": [
    "import sympy\n",
    "import numpy"
   ],
   "metadata": {
    "collapsed": false,
    "pycharm": {
     "name": "#%%\n"
    }
   }
  },
  {
   "cell_type": "markdown",
   "source": [
    "## Задание №1\n",
    "В этом задании используется равновесие на рынке товаров и услуг: Y = C + I + G"
   ],
   "metadata": {
    "collapsed": false,
    "pycharm": {
     "name": "#%% md\n"
    }
   }
  },
  {
   "cell_type": "code",
   "execution_count": 54,
   "outputs": [],
   "source": [
    "c = consumption = 2200  # Потребительские расходы домохозяйств\n",
    "i = investment = 600  # Инвестиционные расходы бизнеса\n",
    "d = deficit_government = 80  # Дефицит государственного бюджета"
   ],
   "metadata": {
    "collapsed": false,
    "pycharm": {
     "name": "#%%\n"
    }
   }
  },
  {
   "cell_type": "code",
   "execution_count": 55,
   "outputs": [
    {
     "data": {
      "text/plain": "{y: 4114.28571428571,\n g: 1314.28571428571,\n t: 1234.28571428571,\n tr: 411.428571428571}"
     },
     "execution_count": 55,
     "metadata": {},
     "output_type": "execute_result"
    }
   ],
   "source": [
    "# Составим систему уравнений\n",
    "\n",
    "# 1. Введем переменные\n",
    "y, g, t, tr = sympy.symbols('y, g, t, tr')\n",
    "\n",
    "# 2. Решим систему уравнений\n",
    "solution = sympy.solve([t - 0.3 * y,  #  налоги - 30% совокупного дохода\n",
    "                        tr - t / 3,  # треть налогов - трансферты\n",
    "                        g - t - d,  # d = g - t\n",
    "                        y - c - i - g],  # равновесие в закрытой экономике\n",
    "                       [y, g, t, tr], dict=True)[0]\n",
    "\n",
    "solution"
   ],
   "metadata": {
    "collapsed": false,
    "pycharm": {
     "name": "#%%\n"
    }
   }
  },
  {
   "cell_type": "code",
   "execution_count": 56,
   "outputs": [
    {
     "name": "stdout",
     "output_type": "stream",
     "text": [
      "Ответ: государственные расходы G = 1314.286\n"
     ]
    }
   ],
   "source": [
    "print(f'Ответ: государственные расходы G = {solution[g]:0.3f}')"
   ],
   "metadata": {
    "collapsed": false,
    "pycharm": {
     "name": "#%%\n"
    }
   }
  },
  {
   "cell_type": "markdown",
   "source": [
    "## Задание №2"
   ],
   "metadata": {
    "collapsed": false,
    "pycharm": {
     "name": "#%% md\n"
    }
   }
  },
  {
   "cell_type": "code",
   "execution_count": 57,
   "outputs": [],
   "source": [
    "i = 460  # инвестиционные расходы\n",
    "\n",
    "# 1. Введем переменные\n",
    "# c - потребительские расходы\n",
    "# sp - частные сбережения. Sp = Y - C - Tn = Sp = Y - C - (T - Tr)\n",
    "# tn - чистые налоги\n",
    "# y - совокупный выпуск\n",
    "# g - гос расходы\n",
    "c, sp, tn, y, g = sympy.symbols('C, S_p, T_n, Y, G')"
   ],
   "metadata": {
    "collapsed": false,
    "pycharm": {
     "name": "#%%\n"
    }
   }
  },
  {
   "cell_type": "code",
   "execution_count": 58,
   "outputs": [
    {
     "data": {
      "text/plain": "{C: 1440.00000000000,\n S_p: 360.000000000000,\n T_n: 200.000000000000,\n Y: 2000.00000000000,\n G: 100.000000000000}"
     },
     "execution_count": 58,
     "metadata": {},
     "output_type": "execute_result"
    }
   ],
   "source": [
    "solution = sympy.solve([c - sp * 4,\n",
    "                        tn - y * 0.1,\n",
    "                        g * 2 - tn,\n",
    "                        y - c - i - g,\n",
    "                        y - c - tn - sp],\n",
    "                       [c, sp, tn, y, g], dict=True)[0]\n",
    "\n",
    "solution"
   ],
   "metadata": {
    "collapsed": false,
    "pycharm": {
     "name": "#%%\n"
    }
   }
  },
  {
   "cell_type": "code",
   "execution_count": 59,
   "outputs": [
    {
     "name": "stdout",
     "output_type": "stream",
     "text": [
      "Ответ: потребительские расходы C = 1440\n"
     ]
    }
   ],
   "source": [
    "print(f'Ответ: потребительские расходы C = {solution[c]:0.0f}')"
   ],
   "metadata": {
    "collapsed": false,
    "pycharm": {
     "name": "#%%\n"
    }
   }
  },
  {
   "cell_type": "markdown",
   "source": [
    "## Задание №3"
   ],
   "metadata": {
    "collapsed": false,
    "pycharm": {
     "name": "#%% md\n"
    }
   }
  },
  {
   "cell_type": "code",
   "execution_count": 60,
   "outputs": [
    {
     "data": {
      "text/plain": "Matrix([\n[3657.65569757955],\n[4385.96682077781]])",
      "text/latex": "$\\displaystyle \\left[\\begin{matrix}3657.65569757955\\\\4385.96682077781\\end{matrix}\\right]$"
     },
     "execution_count": 60,
     "metadata": {},
     "output_type": "execute_result"
    }
   ],
   "source": [
    "A = sympy.Matrix([[0.12, 0.09],\n",
    "                  [0.14, 0.15]])  # Коэффициенты прямых материальных затрат\n",
    "\n",
    "Y = sympy.Matrix([[2824], [3216]])  # Вектор-столбец конечного продукта\n",
    "E = sympy.eye(2)\n",
    "\n",
    "# МУЛЬТИПЛИКАТОР ЛЕОНТЬЕВА\n",
    "B = (E - A) ** -1\n",
    "# X - вектор-столбец объемов производства\n",
    "X = B @ Y\n",
    "X"
   ],
   "metadata": {
    "collapsed": false,
    "pycharm": {
     "name": "#%%\n"
    }
   }
  },
  {
   "cell_type": "code",
   "execution_count": 61,
   "outputs": [
    {
     "name": "stdout",
     "output_type": "stream",
     "text": [
      "Объем выпуска для ПЕРВОЙ отрасли: 3657.66\n",
      "Объем выпуска для ВТОРОЙ отрасли: 4385.97\n",
      "Объем выпуска в целом: 8043.62\n"
     ]
    }
   ],
   "source": [
    "print(f'Объем выпуска для ПЕРВОЙ отрасли: {X[0]:.2f}')\n",
    "print(f'Объем выпуска для ВТОРОЙ отрасли: {X[1]:.2f}')\n",
    "print(f'Объем выпуска в целом: {sum(X):.2f}')"
   ],
   "metadata": {
    "collapsed": false,
    "pycharm": {
     "name": "#%%\n"
    }
   }
  },
  {
   "cell_type": "code",
   "execution_count": 62,
   "outputs": [
    {
     "data": {
      "text/plain": "Matrix([\n[438.918683709546, 394.737013870003],\n[512.071797661137, 657.895023116671]])",
      "text/latex": "$\\displaystyle \\left[\\begin{matrix}438.918683709546 & 394.737013870003\\\\512.071797661137 & 657.895023116671\\end{matrix}\\right]$"
     },
     "execution_count": 62,
     "metadata": {},
     "output_type": "execute_result"
    }
   ],
   "source": [
    "X_concat = sympy.Matrix([X.T, X.T])\n",
    "\n",
    "# Матрица материальных затрат. Элемент x_ij = A_ij * X_j\n",
    "x = sympy.hadamard_product(A, X_concat)  # Поэлементное умножение\n",
    "x"
   ],
   "metadata": {
    "collapsed": false,
    "pycharm": {
     "name": "#%%\n"
    }
   }
  },
  {
   "cell_type": "code",
   "execution_count": 63,
   "outputs": [
    {
     "name": "stdout",
     "output_type": "stream",
     "text": [
      "Материальные затраты ПЕРВОЙ отрасли: 950.99\n",
      "Материальные затраты ВТОРОЙ отрасли: 1052.63\n",
      "Материальные затраты в экономике: 2003.62\n"
     ]
    }
   ],
   "source": [
    "C = numpy.sum(x, axis=0)  # материальные затраты отраслей\n",
    "print(f'Материальные затраты ПЕРВОЙ отрасли: {C[0]:.2f}')\n",
    "print(f'Материальные затраты ВТОРОЙ отрасли: {C[1]:.2f}')\n",
    "print(f'Материальные затраты в экономике: {C.sum():.2f}')"
   ],
   "metadata": {
    "collapsed": false,
    "pycharm": {
     "name": "#%%\n"
    }
   }
  },
  {
   "cell_type": "markdown",
   "source": [
    "## Задание №5"
   ],
   "metadata": {
    "collapsed": false,
    "pycharm": {
     "name": "#%% md\n"
    }
   }
  },
  {
   "cell_type": "code",
   "execution_count": 114,
   "outputs": [],
   "source": [
    "a0 = 86\n",
    "a1 = 0.5\n",
    "b0 = 257\n",
    "b1 = -5\n",
    "alpha = 0.8\n",
    "K = 490\n",
    "L = 1137\n",
    "G = 42\n",
    "T = 134\n",
    "delta_r = 2\n",
    "delta_C = 14"
   ],
   "metadata": {
    "collapsed": false,
    "pycharm": {
     "name": "#%%\n"
    }
   }
  },
  {
   "cell_type": "code",
   "execution_count": 115,
   "outputs": [],
   "source": [
    "# Функция Кобба-Дугласа\n",
    "# Y = K ** alpha * L ** (1 - alpha)\n",
    "\n",
    "# Модель долгосрочного равновесия в закрытой экономике\n",
    "# Y = C - I - G\n",
    "# C = a0 + a1 * (Y - T)\n",
    "# I = b0 + b1 * r\n",
    "\n",
    "# Кроме того, имеют место отношения\n",
    "# S = Spr + Sg - национальные сбережения равны сумме частных и государственных\n",
    "# Sg = T - G - государственные сбережения: Налоги - Расходы\n",
    "# Spr = Y - T - C - частные сбережения"
   ],
   "metadata": {
    "collapsed": false,
    "pycharm": {
     "name": "#%%\n"
    }
   }
  },
  {
   "cell_type": "code",
   "execution_count": 116,
   "outputs": [
    {
     "data": {
      "text/plain": "{Y: 579.841048478818,\n C: 308.920524239409,\n I: 228.920524239409,\n S: 228.920524239409,\n Spr: 136.920524239409,\n Sg: 92.0000000000000,\n r: 5.61589515211820}"
     },
     "execution_count": 116,
     "metadata": {},
     "output_type": "execute_result"
    }
   ],
   "source": [
    "# Пункт А\n",
    "\n",
    "Y, C, I, S, Spr, Sg, r = sympy.symbols('Y, C, I, S, Spr, Sg, r')\n",
    "\n",
    "solution_start = sympy.solve([Y - K ** alpha * L ** (1 - alpha),\n",
    "                              Y - C - I - G,\n",
    "                              C - a0 - a1 * (Y - T),\n",
    "                              I - b0 - b1 * r,\n",
    "                              S - Spr - Sg,\n",
    "                              Sg - T + G,\n",
    "                              Spr - Y + T + C],\n",
    "                             [Y, C, I, S, Spr, Sg, r], dict=True)[0]\n",
    "solution_start"
   ],
   "metadata": {
    "collapsed": false,
    "pycharm": {
     "name": "#%%\n"
    }
   }
  },
  {
   "cell_type": "code",
   "execution_count": 135,
   "outputs": [
    {
     "name": "stdout",
     "output_type": "stream",
     "text": [
      "Ответ:\n",
      "Выпуск: 579.84\n",
      "Потребление: 308.92\n",
      "Инвестиции: 228.92\n",
      "Процентная ставка: 5.62\n",
      "Национальные сбережения: 228.92\n",
      "Государственные сбережения: 92.00\n",
      "Частные сбережения: 136.92\n"
     ]
    }
   ],
   "source": [
    "print('Ответ:')\n",
    "print(f'Выпуск: {solution_start[Y]:0.2f}\\n'\n",
    "      f'Потребление: {solution_start[C]:0.2f}\\n'\n",
    "      f'Инвестиции: {solution_start[I]:0.2f}\\n'\n",
    "      f'Процентная ставка: {solution_start[r]:0.2f}\\n'\n",
    "      f'Национальные сбережения: {solution_start[S]:0.2f}\\n'\n",
    "      f'Государственные сбережения: {solution_start[Sg]:0.2f}\\n'\n",
    "      f'Частные сбережения: {solution_start[Spr]:0.2f}')"
   ],
   "metadata": {
    "collapsed": false,
    "pycharm": {
     "name": "#%%\n"
    }
   }
  },
  {
   "cell_type": "code",
   "execution_count": 117,
   "outputs": [
    {
     "data": {
      "text/plain": "-28.0"
     },
     "execution_count": 117,
     "metadata": {},
     "output_type": "execute_result"
    }
   ],
   "source": [
    "# Пункт Б\n",
    "# Стимулирующая политика: delta_G > 0, delta_T < 0, delta_Tr > 0\n",
    "# delta_Tr - не используем\n",
    "\n",
    "# C = a0 + a1 * (Y - T) - потребление зависит от общего выпуска и налогов, возьмем дифференциал по налогам. f' = df / dx\n",
    "\n",
    "# delta_C / delta_T = - a1\n",
    "# delta_T = - delta_C / a1\n",
    "delta_T = - delta_C / a1\n",
    "delta_T"
   ],
   "metadata": {
    "collapsed": false,
    "pycharm": {
     "name": "#%%\n"
    }
   }
  },
  {
   "cell_type": "code",
   "execution_count": 118,
   "outputs": [
    {
     "data": {
      "text/plain": "0.2*G - 0.1*T - 0.1*Y + 68.6",
      "text/latex": "$\\displaystyle 0.2 G - 0.1 T - 0.1 Y + 68.6$"
     },
     "execution_count": 118,
     "metadata": {},
     "output_type": "execute_result"
    }
   ],
   "source": [
    "# Найдем равновесную ставку процента r из модели\n",
    "G, T, Y, C = sympy.symbols('G, T, Y, C')\n",
    "\n",
    "r_eq = sympy.solve([Y - C - I - G,\n",
    "                    C - a0 - a1 * (Y - T),\n",
    "                    I - b0 - b1 * r],\n",
    "                   [r, C, I], dict=True)[0][r]\n",
    "r_eq"
   ],
   "metadata": {
    "collapsed": false,
    "pycharm": {
     "name": "#%%\n"
    }
   }
  },
  {
   "cell_type": "code",
   "execution_count": 119,
   "outputs": [
    {
     "data": {
      "text/plain": "-4.00000000000000",
      "text/latex": "$\\displaystyle -4.0$"
     },
     "execution_count": 119,
     "metadata": {},
     "output_type": "execute_result"
    }
   ],
   "source": [
    "# Выразим дифференциал государственных расходов\n",
    "delta_G = sympy.symbols('Delta_G')\n",
    "delta_G = sympy.solve(delta_r - r_eq.diff(T) * delta_T - r_eq.diff(G) * delta_G,\n",
    "                      delta_G, dict=True)[0][delta_G]\n",
    "delta_G"
   ],
   "metadata": {
    "collapsed": false,
    "pycharm": {
     "name": "#%%\n"
    }
   }
  },
  {
   "cell_type": "code",
   "execution_count": 126,
   "outputs": [
    {
     "name": "stdout",
     "output_type": "stream",
     "text": [
      "Стимулирующая государственная политика была осуществлена\n",
      "понижением гос. расходов на 4\n",
      "и понижением налогов на 28\n"
     ]
    }
   ],
   "source": [
    "print(f'Стимулирующая государственная политика была осуществлена\\n'\n",
    "      f'понижением гос. расходов на {abs(delta_G):0.0f}\\n'\n",
    "      f'и понижением налогов на {abs(delta_T):0.0f}')"
   ],
   "metadata": {
    "collapsed": false,
    "pycharm": {
     "name": "#%%\n"
    }
   }
  },
  {
   "cell_type": "code",
   "execution_count": 124,
   "outputs": [
    {
     "data": {
      "text/plain": "{Y: 579.841048478818,\n C: 308.920524239409,\n I: 218.920524239409,\n S: 218.920524239409,\n Spr: 150.920524239409,\n Sg: 68.0000000000000,\n r: 5.61589515211820}"
     },
     "execution_count": 124,
     "metadata": {},
     "output_type": "execute_result"
    }
   ],
   "source": [
    "Y, C, I, S, Spr, Sg, r = sympy.symbols('Y, C, I, S, Spr, Sg, r')\n",
    "\n",
    "C_new = C + delta_C\n",
    "G = 42\n",
    "G = G + delta_G\n",
    "T = 134\n",
    "T = T + delta_T\n",
    "r_new = r + delta_r\n",
    "\n",
    "solution_eq = sympy.solve([Y - K ** alpha * L ** (1 - alpha),\n",
    "                           Y - C_new - I - G,\n",
    "                           C_new - a0 - a1 * (Y - T),\n",
    "                           I - b0 - b1 * r_new,\n",
    "                           S - Spr - Sg,\n",
    "                           Sg - T + G,\n",
    "                           Spr - Y + T + C_new],\n",
    "                          [Y, C, I, S, Spr, Sg, r], dict=True)[0]\n",
    "solution_eq"
   ],
   "metadata": {
    "collapsed": false,
    "pycharm": {
     "name": "#%%\n"
    }
   }
  },
  {
   "cell_type": "code",
   "execution_count": 138,
   "outputs": [
    {
     "name": "stdout",
     "output_type": "stream",
     "text": [
      "Ответ:\n",
      "Выпуск: 579.84\n",
      "Потребление: 322.92\n",
      "Инвестиции: 218.92\n",
      "Процентная ставка: 7.62\n",
      "Национальные сбережения: 218.92\n",
      "Государственные сбережения: 68.00\n",
      "Частные сбережения: 150.92\n"
     ]
    }
   ],
   "source": [
    "print('Ответ:')\n",
    "print(f'Выпуск: {solution_eq[Y]:0.2f}\\n'\n",
    "      f'Потребление: {solution_eq[C] + delta_C:0.2f}\\n'\n",
    "      f'Инвестиции: {solution_eq[I]:0.2f}\\n'\n",
    "      f'Процентная ставка: {solution_eq[r] + delta_r:0.2f}\\n'\n",
    "      f'Национальные сбережения: {solution_eq[S]:0.2f}\\n'\n",
    "      f'Государственные сбережения: {solution_eq[Sg]:0.2f}\\n'\n",
    "      f'Частные сбережения: {solution_eq[Spr]:0.2f}')"
   ],
   "metadata": {
    "collapsed": false,
    "pycharm": {
     "name": "#%%\n"
    }
   }
  },
  {
   "cell_type": "code",
   "execution_count": null,
   "outputs": [],
   "source": [],
   "metadata": {
    "collapsed": false,
    "pycharm": {
     "name": "#%%\n"
    }
   }
  }
 ],
 "metadata": {
  "kernelspec": {
   "display_name": "Python 3",
   "language": "python",
   "name": "python3"
  },
  "language_info": {
   "codemirror_mode": {
    "name": "ipython",
    "version": 2
   },
   "file_extension": ".py",
   "mimetype": "text/x-python",
   "name": "python",
   "nbconvert_exporter": "python",
   "pygments_lexer": "ipython2",
   "version": "2.7.6"
  }
 },
 "nbformat": 4,
 "nbformat_minor": 0
}